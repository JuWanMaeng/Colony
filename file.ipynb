{
 "cells": [
  {
   "metadata": {
    "ExecuteTime": {
     "end_time": "2025-10-14T00:27:57.982225Z",
     "start_time": "2025-10-14T00:27:57.966577Z"
    }
   },
   "cell_type": "code",
   "source": [
    "import os\n",
    "\n",
    "folder_path = 'C:/workspace/datasets'\n",
    "total_imgs = 0"
   ],
   "id": "9b40ace23d9dea01",
   "outputs": [],
   "execution_count": 2
  },
  {
   "cell_type": "code",
   "id": "initial_id",
   "metadata": {
    "collapsed": true,
    "ExecuteTime": {
     "end_time": "2025-10-14T00:27:58.224645Z",
     "start_time": "2025-10-14T00:27:58.216096Z"
    }
   },
   "source": [
    "data_path = '20251004'\n",
    "\n",
    "data_folder_path = os.path.join(folder_path, data_path)\n",
    "\n",
    "for folder in os.listdir(data_folder_path):\n",
    "    path = os.path.join(data_folder_path, folder)\n",
    "    print(path)\n",
    "    img_folder_path = os.path.join(path,'Images')\n",
    "    imgs = sorted(os.listdir(img_folder_path))\n",
    "    total_imgs += len(imgs)\n",
    "    print(len(imgs))\n",
    "\n"
   ],
   "outputs": [
    {
     "name": "stdout",
     "output_type": "stream",
     "text": [
      "C:/workspace/datasets\\20251004\\2025-10-02\n",
      "45\n",
      "C:/workspace/datasets\\20251004\\2025-10-03\n",
      "45\n",
      "C:/workspace/datasets\\20251004\\2025-10-04\n",
      "15\n"
     ]
    }
   ],
   "execution_count": 3
  },
  {
   "metadata": {
    "ExecuteTime": {
     "end_time": "2025-10-14T00:27:58.448558Z",
     "start_time": "2025-10-14T00:27:58.442285Z"
    }
   },
   "cell_type": "code",
   "source": [
    "data_path = 'e.coli_0924_0926'\n",
    "\n",
    "data_folder_path = os.path.join(folder_path, data_path)\n",
    "\n",
    "for folder in os.listdir(data_folder_path):\n",
    "    path = os.path.join(data_folder_path, folder)\n",
    "    print(path)\n",
    "    img_folder_path = os.path.join(path,'Images')\n",
    "    imgs = sorted(os.listdir(img_folder_path))\n",
    "    total_imgs += len(imgs)\n",
    "    print(len(imgs))\n",
    "\n"
   ],
   "id": "4b8d9c90ad984e9e",
   "outputs": [
    {
     "name": "stdout",
     "output_type": "stream",
     "text": [
      "C:/workspace/datasets\\e.coli_0924_0926\\2025-09-24\n",
      "30\n",
      "C:/workspace/datasets\\e.coli_0924_0926\\2025-09-25\n",
      "11\n",
      "C:/workspace/datasets\\e.coli_0924_0926\\2025-09-26\n",
      "2\n"
     ]
    }
   ],
   "execution_count": 4
  },
  {
   "metadata": {
    "ExecuteTime": {
     "end_time": "2025-10-14T00:27:58.673721Z",
     "start_time": "2025-10-14T00:27:58.658441Z"
    }
   },
   "cell_type": "code",
   "source": [
    "data_path = 'yeast_0930_1002'\n",
    "\n",
    "data_folder_path = os.path.join(folder_path, data_path)\n",
    "\n",
    "for folder in os.listdir(data_folder_path):\n",
    "    path = os.path.join(data_folder_path, folder)\n",
    "    print(path)\n",
    "    img_folder_path = os.path.join(path,'Images')\n",
    "    imgs = sorted(os.listdir(img_folder_path))\n",
    "    total_imgs += len(imgs)\n",
    "    print(len(imgs))\n"
   ],
   "id": "b3323f7fdb1b02f4",
   "outputs": [
    {
     "name": "stdout",
     "output_type": "stream",
     "text": [
      "C:/workspace/datasets\\yeast_0930_1002\\2025-09-30\n",
      "1\n",
      "C:/workspace/datasets\\yeast_0930_1002\\2025-10-01\n",
      "25\n",
      "C:/workspace/datasets\\yeast_0930_1002\\2025-10-02\n",
      "3\n"
     ]
    }
   ],
   "execution_count": 5
  },
  {
   "metadata": {
    "ExecuteTime": {
     "end_time": "2025-10-14T00:27:59.090246Z",
     "start_time": "2025-10-14T00:27:59.082465Z"
    }
   },
   "cell_type": "code",
   "source": "total_imgs",
   "id": "25e149ed8d90b4aa",
   "outputs": [
    {
     "data": {
      "text/plain": [
       "177"
      ]
     },
     "execution_count": 6,
     "metadata": {},
     "output_type": "execute_result"
    }
   ],
   "execution_count": 6
  },
  {
   "metadata": {
    "ExecuteTime": {
     "end_time": "2025-10-14T00:26:59.528313Z",
     "start_time": "2025-10-14T00:26:00.266259Z"
    }
   },
   "cell_type": "code",
   "source": [
    "import os\n",
    "from PIL import Image\n",
    "\n",
    "# 원본 데이터 폴더 경로\n",
    "base_folder = 'C:/workspace/datasets'\n",
    "data_folders = ['20251004', 'e.coli_0924_0926', 'yeast_0930_1002']\n",
    "\n",
    "# 변환된 PNG 파일을 저장할 폴더\n",
    "output_folder = os.path.join(base_folder, 'merged')\n",
    "os.makedirs(output_folder, exist_ok=True)\n",
    "\n",
    "# 변환된 이미지 수 카운트\n",
    "total_count = 0\n",
    "\n",
    "for data_path in data_folders:\n",
    "    data_folder_path = os.path.join(base_folder, data_path)\n",
    "\n",
    "    for root, dirs, files in os.walk(data_folder_path):\n",
    "        for file in files:\n",
    "            if file.lower().endswith('.bmp'):\n",
    "                bmp_path = os.path.join(root, file)\n",
    "\n",
    "                # 저장 시 이름 중복 방지용\n",
    "                relative_path = os.path.relpath(bmp_path, base_folder)\n",
    "                safe_name = relative_path.replace(\"\\\\\", \"_\").replace(\"/\", \"_\").replace(\" \", \"_\")\n",
    "                png_name = os.path.splitext(safe_name)[0] + '.png'\n",
    "                png_path = os.path.join(output_folder, png_name)\n",
    "\n",
    "                try:\n",
    "                    with Image.open(bmp_path) as img:\n",
    "                        img.save(png_path, 'PNG')\n",
    "                    total_count += 1\n",
    "                except Exception as e:\n",
    "                    print(f\"⚠️ 변환 실패: {bmp_path} ({e})\")\n",
    "\n",
    "print(f\"\\n✅ 변환 완료! 총 {total_count}개의 BMP → PNG 변환 완료\")\n",
    "print(f\"📂 저장 경로: {output_folder}\")\n"
   ],
   "id": "5f5d501766e48970",
   "outputs": [
    {
     "name": "stdout",
     "output_type": "stream",
     "text": [
      "\n",
      "✅ 변환 완료! 총 177개의 BMP → PNG 변환 완료\n",
      "📂 저장 경로: C:/workspace/datasets\\merged\n"
     ]
    }
   ],
   "execution_count": 1
  },
  {
   "metadata": {},
   "cell_type": "code",
   "outputs": [],
   "execution_count": null,
   "source": [
    "import os\n",
    "from PIL import Image\n",
    "\n",
    "# 원본 데이터 폴더 경로\n",
    "base_folder = 'C:/workspace/datasets'\n",
    "data_folders = ['20251004', 'e.coli_0924_0926', 'yeast_0930_1002']\n",
    "\n",
    "# 변환된 PNG 파일을 저장할 폴더\n",
    "output_folder = os.path.join(base_folder, 'tmp')\n",
    "os.makedirs(output_folder, exist_ok=True)\n",
    "\n",
    "# 변환된 이미지 수 카운트\n",
    "total_count = 0\n",
    "\n",
    "for data_path in data_folders:\n",
    "    data_folder_path = os.path.join(base_folder, data_path)\n",
    "\n",
    "    for root, dirs, files in os.walk(data_folder_path):\n",
    "        for file in files:\n",
    "            if file.lower().endswith('.bmp'):\n",
    "                bmp_path = os.path.join(root, file)\n",
    "\n",
    "                # 저장 시 이름 중복 방지용\n",
    "                relative_path = os.path.relpath(bmp_path, base_folder)\n",
    "                safe_name = relative_path.replace(\"\\\\\", \"_\").replace(\"/\", \"_\").replace(\" \", \"_\")\n",
    "                png_name = os.path.splitext(safe_name)[0] + '.png'\n",
    "                png_path = os.path.join(output_folder, png_name)\n",
    "\n",
    "                try:\n",
    "                    with Image.open(bmp_path) as img:\n",
    "                        img.save(png_path, 'PNG')\n",
    "                    total_count += 1\n",
    "                except Exception as e:\n",
    "                    print(f\"⚠️ 변환 실패: {bmp_path} ({e})\")\n",
    "\n",
    "print(f\"\\n✅ 변환 완료! 총 {total_count}개의 BMP → PNG 변환 완료\")\n",
    "print(f\"📂 저장 경로: {output_folder}\")\n"
   ],
   "id": "17562cf3b069fa51"
  }
 ],
 "metadata": {
  "kernelspec": {
   "display_name": "Python 3",
   "language": "python",
   "name": "python3"
  },
  "language_info": {
   "codemirror_mode": {
    "name": "ipython",
    "version": 2
   },
   "file_extension": ".py",
   "mimetype": "text/x-python",
   "name": "python",
   "nbconvert_exporter": "python",
   "pygments_lexer": "ipython2",
   "version": "2.7.6"
  }
 },
 "nbformat": 4,
 "nbformat_minor": 5
}
